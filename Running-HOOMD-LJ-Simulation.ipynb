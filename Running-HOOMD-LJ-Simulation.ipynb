{
 "cells": [
  {
   "cell_type": "markdown",
   "metadata": {
    "slideshow": {
     "slide_type": "skip"
    }
   },
   "source": [
    "# Molecular Dynamics: Lennard-Jones system\n",
    "\n",
    "Today we will be performing some basic molecular dynamics (MD) simulation of a Lennard-Jones system (i.e., a system of particles interacting via a Lennard-Jones potential). We will be performing several simulations under both the canonical (NVT) and Isothermal-Isobaric (NPT) ensembles.\n",
    "\n",
    "**NOTE:** This tutorial has been adapted from the LJ tutorial located at https://bitbucket.org/glotzer/hoomd-examples.\n",
    "\n",
    "**NOTE:** A detailed description of all HOOMD-Blue commands can be found at https://hoomd-blue.readthedocs.io/en/stable/."
   ]
  },
  {
   "cell_type": "markdown",
   "metadata": {},
   "source": [
    "## Description\n",
    "\n",
    "This tutorial will walk through the basic steps of a MD simulation under the NVT and NPT ensembles.\n",
    "\n",
    "The general steps will be as follows:\n",
    "1. Creation of the system of interest in mBuild\n",
    "2. Saving said system to a format that HOOMD-Blue can read\n",
    "3. Initialize the system and simulation information in HOOMD-Blue\n",
    "4. Define the potential energy function and particle velocities\n",
    "5. Select the integrator\n",
    "6. Perform NVT simulation and log thermodynamic properties\n",
    "7. Perform NPT simulation and log thermodynamic properties\n",
    "8. Compare differences between two ensembles"
   ]
  },
  {
   "cell_type": "markdown",
   "metadata": {},
   "source": [
    "## System Generation\n",
    "\n",
    "To begin, we will use the `Pattern` class from mBuild to build a 3D grid of 125 Lennard-Jones particles."
   ]
  },
  {
   "cell_type": "code",
   "execution_count": 1,
   "metadata": {},
   "outputs": [
    {
     "name": "stderr",
     "output_type": "stream",
     "text": [
      "/Users/ayang41/Programs/mbuild/mbuild/box.py:34: UserWarning: Provided `lengths` and `mins` and/or `maxs`. Only `lengths` is being used. You provided: lengths=[6, 6, 6] mins=None maxs=None\n",
      "  \"lengths={} mins={} maxs={}\".format(lengths, mins, maxs)\n"
     ]
    }
   ],
   "source": [
    "import mbuild as mb\n",
    "\n",
    "# Create a particle, we give it the name \"C\" for visualization purposes only\n",
    "lj = mb.Particle(name='C')\n",
    "\n",
    "# Pack a simulation box (6x6x6) with 20 LJ particles\n",
    "lj_box = mb.fill_box(lj, n_compounds=20, box=mb.Box([6,6,6]))"
   ]
  },
  {
   "cell_type": "markdown",
   "metadata": {},
   "source": [
    "\n",
    "Lets visualize this compound."
   ]
  },
  {
   "cell_type": "code",
   "execution_count": 2,
   "metadata": {},
   "outputs": [
    {
     "data": {
      "application/3dmoljs_load.v0": "<div id=\"3dmolviewer_1558990384838845\"  style=\"position: relative; width: 640px; height: 480px\">\n        <p id=\"3dmolwarning_1558990384838845\" style=\"background-color:#ffcccc;color:black\">You appear to be running in JupyterLab (or JavaScript failed to load for some other reason).  You need to install the 3dmol extension: <br>\n        <tt>jupyter labextension install jupyterlab_3dmol</tt></p>\n        </div>\n<script>\n\nvar loadScriptAsync = function(uri){\n  return new Promise((resolve, reject) => {\n    var tag = document.createElement('script');\n    tag.src = uri;\n    tag.async = true;\n    tag.onload = () => {\n      resolve();\n    };\n  var firstScriptTag = document.getElementsByTagName('script')[0];\n  firstScriptTag.parentNode.insertBefore(tag, firstScriptTag);\n});\n};\n\nif(typeof $3Dmolpromise === 'undefined') {\n$3Dmolpromise = null;\n  $3Dmolpromise = loadScriptAsync('https://3dmol.csb.pitt.edu/build/3Dmol.js');\n}\n\nvar viewer_1558990384838845 = null;\nvar warn = document.getElementById(\"3dmolwarning_1558990384838845\");\nif(warn) {\n    warn.parentNode.removeChild(warn);\n}\n$3Dmolpromise.then(function() {\nviewer_1558990384838845 = $3Dmol.createViewer($(\"#3dmolviewer_1558990384838845\"),{backgroundColor:\"white\"});\n\tviewer_1558990384838845.addModel(\"@<TRIPOS>MOLECULE\\nRES\\n20 0 1 0 1\\nSMALL\\nNO_CHARGES\\n@<TRIPOS>CRYSIN\\n   60.0000    60.0000    60.0000    90.0000    90.0000    90.0000  1  1\\n@<TRIPOS>ATOM\\n       1 C           40.3522     7.6011    22.1892 C             1 RES     \\n       2 C            3.1240    10.6082    32.7148 C             1 RES     \\n       3 C           39.0431    34.6958    31.3042 C             1 RES     \\n       4 C           19.3508    45.7508     2.9101 C             1 RES     \\n       5 C           25.3281    46.4743    18.0875 C             1 RES     \\n       6 C           11.4867    41.7000    28.4620 C             1 RES     \\n       7 C           44.9101    16.5955     7.9472 C             1 RES     \\n       8 C            9.5921    27.4335     9.7797 C             1 RES     \\n       9 C           38.8421    23.4396     9.5257 C             1 RES     \\n      10 C           37.9806    29.0923    34.3518 C             1 RES     \\n      11 C           46.1038     0.6194     3.8999 C             1 RES     \\n      12 C           51.4080    47.4590    39.1514 C             1 RES     \\n      13 C           30.1217    13.7089    19.2085 C             1 RES     \\n      14 C           23.5581    33.1957    16.3776 C             1 RES     \\n      15 C           34.8083    28.9291    41.7822 C             1 RES     \\n      16 C            8.2153    13.8955     2.9431 C             1 RES     \\n      17 C           21.7926     3.9244    20.5269 C             1 RES     \\n      18 C           46.8484    53.1169    40.6351 C             1 RES     \\n      19 C            4.7923    52.5821    49.4433 C             1 RES     \\n      20 C           12.6131    22.9294    36.9129 C             1 RES     \\n@<TRIPOS>BOND\\n@<TRIPOS>SUBSTRUCTURE\\n       1 RES             1 RESIDUE    0 **** ROOT      0\\n\",\"mol2\");\n\tviewer_1558990384838845.setStyle({\"stick\": {\"radius\": 0.2, \"color\": \"grey\"}, \"sphere\": {\"scale\": 0.3, \"colorscheme\": {}}});\n\tviewer_1558990384838845.zoomTo();\nviewer_1558990384838845.render();\n});\n</script>",
      "text/html": [
       "<div id=\"3dmolviewer_1558990384838845\"  style=\"position: relative; width: 640px; height: 480px\">\n",
       "        <p id=\"3dmolwarning_1558990384838845\" style=\"background-color:#ffcccc;color:black\">You appear to be running in JupyterLab (or JavaScript failed to load for some other reason).  You need to install the 3dmol extension: <br>\n",
       "        <tt>jupyter labextension install jupyterlab_3dmol</tt></p>\n",
       "        </div>\n",
       "<script>\n",
       "\n",
       "var loadScriptAsync = function(uri){\n",
       "  return new Promise((resolve, reject) => {\n",
       "    var tag = document.createElement('script');\n",
       "    tag.src = uri;\n",
       "    tag.async = true;\n",
       "    tag.onload = () => {\n",
       "      resolve();\n",
       "    };\n",
       "  var firstScriptTag = document.getElementsByTagName('script')[0];\n",
       "  firstScriptTag.parentNode.insertBefore(tag, firstScriptTag);\n",
       "});\n",
       "};\n",
       "\n",
       "if(typeof $3Dmolpromise === 'undefined') {\n",
       "$3Dmolpromise = null;\n",
       "  $3Dmolpromise = loadScriptAsync('https://3dmol.csb.pitt.edu/build/3Dmol.js');\n",
       "}\n",
       "\n",
       "var viewer_1558990384838845 = null;\n",
       "var warn = document.getElementById(\"3dmolwarning_1558990384838845\");\n",
       "if(warn) {\n",
       "    warn.parentNode.removeChild(warn);\n",
       "}\n",
       "$3Dmolpromise.then(function() {\n",
       "viewer_1558990384838845 = $3Dmol.createViewer($(\"#3dmolviewer_1558990384838845\"),{backgroundColor:\"white\"});\n",
       "\tviewer_1558990384838845.addModel(\"@<TRIPOS>MOLECULE\\nRES\\n20 0 1 0 1\\nSMALL\\nNO_CHARGES\\n@<TRIPOS>CRYSIN\\n   60.0000    60.0000    60.0000    90.0000    90.0000    90.0000  1  1\\n@<TRIPOS>ATOM\\n       1 C           40.3522     7.6011    22.1892 C             1 RES     \\n       2 C            3.1240    10.6082    32.7148 C             1 RES     \\n       3 C           39.0431    34.6958    31.3042 C             1 RES     \\n       4 C           19.3508    45.7508     2.9101 C             1 RES     \\n       5 C           25.3281    46.4743    18.0875 C             1 RES     \\n       6 C           11.4867    41.7000    28.4620 C             1 RES     \\n       7 C           44.9101    16.5955     7.9472 C             1 RES     \\n       8 C            9.5921    27.4335     9.7797 C             1 RES     \\n       9 C           38.8421    23.4396     9.5257 C             1 RES     \\n      10 C           37.9806    29.0923    34.3518 C             1 RES     \\n      11 C           46.1038     0.6194     3.8999 C             1 RES     \\n      12 C           51.4080    47.4590    39.1514 C             1 RES     \\n      13 C           30.1217    13.7089    19.2085 C             1 RES     \\n      14 C           23.5581    33.1957    16.3776 C             1 RES     \\n      15 C           34.8083    28.9291    41.7822 C             1 RES     \\n      16 C            8.2153    13.8955     2.9431 C             1 RES     \\n      17 C           21.7926     3.9244    20.5269 C             1 RES     \\n      18 C           46.8484    53.1169    40.6351 C             1 RES     \\n      19 C            4.7923    52.5821    49.4433 C             1 RES     \\n      20 C           12.6131    22.9294    36.9129 C             1 RES     \\n@<TRIPOS>BOND\\n@<TRIPOS>SUBSTRUCTURE\\n       1 RES             1 RESIDUE    0 **** ROOT      0\\n\",\"mol2\");\n",
       "\tviewer_1558990384838845.setStyle({\"stick\": {\"radius\": 0.2, \"color\": \"grey\"}, \"sphere\": {\"scale\": 0.3, \"colorscheme\": {}}});\n",
       "\tviewer_1558990384838845.zoomTo();\n",
       "viewer_1558990384838845.render();\n",
       "});\n",
       "</script>"
      ]
     },
     "metadata": {},
     "output_type": "display_data"
    },
    {
     "data": {
      "application/3dmoljs_load.v0": "<div id=\"3dmolviewer_155899038484705\"  style=\"position: relative; width: 640px; height: 480px\">\n        <p id=\"3dmolwarning_155899038484705\" style=\"background-color:#ffcccc;color:black\">You appear to be running in JupyterLab (or JavaScript failed to load for some other reason).  You need to install the 3dmol extension: <br>\n        <tt>jupyter labextension install jupyterlab_3dmol</tt></p>\n        </div>\n<script>\n\nvar loadScriptAsync = function(uri){\n  return new Promise((resolve, reject) => {\n    var tag = document.createElement('script');\n    tag.src = uri;\n    tag.async = true;\n    tag.onload = () => {\n      resolve();\n    };\n  var firstScriptTag = document.getElementsByTagName('script')[0];\n  firstScriptTag.parentNode.insertBefore(tag, firstScriptTag);\n});\n};\n\nif(typeof $3Dmolpromise === 'undefined') {\n$3Dmolpromise = null;\n  $3Dmolpromise = loadScriptAsync('https://3dmol.csb.pitt.edu/build/3Dmol.js');\n}\n\nvar viewer_155899038484705 = null;\nvar warn = document.getElementById(\"3dmolwarning_155899038484705\");\nif(warn) {\n    warn.parentNode.removeChild(warn);\n}\n$3Dmolpromise.then(function() {\nviewer_155899038484705 = $3Dmol.createViewer($(\"#3dmolviewer_155899038484705\"),{backgroundColor:\"white\"});\n\tviewer_155899038484705.addModel(\"@<TRIPOS>MOLECULE\\nRES\\n20 0 1 0 1\\nSMALL\\nNO_CHARGES\\n@<TRIPOS>CRYSIN\\n   60.0000    60.0000    60.0000    90.0000    90.0000    90.0000  1  1\\n@<TRIPOS>ATOM\\n       1 C           40.3522     7.6011    22.1892 C             1 RES     \\n       2 C            3.1240    10.6082    32.7148 C             1 RES     \\n       3 C           39.0431    34.6958    31.3042 C             1 RES     \\n       4 C           19.3508    45.7508     2.9101 C             1 RES     \\n       5 C           25.3281    46.4743    18.0875 C             1 RES     \\n       6 C           11.4867    41.7000    28.4620 C             1 RES     \\n       7 C           44.9101    16.5955     7.9472 C             1 RES     \\n       8 C            9.5921    27.4335     9.7797 C             1 RES     \\n       9 C           38.8421    23.4396     9.5257 C             1 RES     \\n      10 C           37.9806    29.0923    34.3518 C             1 RES     \\n      11 C           46.1038     0.6194     3.8999 C             1 RES     \\n      12 C           51.4080    47.4590    39.1514 C             1 RES     \\n      13 C           30.1217    13.7089    19.2085 C             1 RES     \\n      14 C           23.5581    33.1957    16.3776 C             1 RES     \\n      15 C           34.8083    28.9291    41.7822 C             1 RES     \\n      16 C            8.2153    13.8955     2.9431 C             1 RES     \\n      17 C           21.7926     3.9244    20.5269 C             1 RES     \\n      18 C           46.8484    53.1169    40.6351 C             1 RES     \\n      19 C            4.7923    52.5821    49.4433 C             1 RES     \\n      20 C           12.6131    22.9294    36.9129 C             1 RES     \\n@<TRIPOS>BOND\\n@<TRIPOS>SUBSTRUCTURE\\n       1 RES             1 RESIDUE    0 **** ROOT      0\\n\",\"mol2\");\n\tviewer_155899038484705.setStyle({\"stick\": {\"radius\": 0.2, \"color\": \"grey\"}, \"sphere\": {\"scale\": 0.3, \"colorscheme\": {}}});\n\tviewer_155899038484705.zoomTo();\nviewer_155899038484705.render();\n});\n</script>",
      "text/html": [
       "<div id=\"3dmolviewer_155899038484705\"  style=\"position: relative; width: 640px; height: 480px\">\n",
       "        <p id=\"3dmolwarning_155899038484705\" style=\"background-color:#ffcccc;color:black\">You appear to be running in JupyterLab (or JavaScript failed to load for some other reason).  You need to install the 3dmol extension: <br>\n",
       "        <tt>jupyter labextension install jupyterlab_3dmol</tt></p>\n",
       "        </div>\n",
       "<script>\n",
       "\n",
       "var loadScriptAsync = function(uri){\n",
       "  return new Promise((resolve, reject) => {\n",
       "    var tag = document.createElement('script');\n",
       "    tag.src = uri;\n",
       "    tag.async = true;\n",
       "    tag.onload = () => {\n",
       "      resolve();\n",
       "    };\n",
       "  var firstScriptTag = document.getElementsByTagName('script')[0];\n",
       "  firstScriptTag.parentNode.insertBefore(tag, firstScriptTag);\n",
       "});\n",
       "};\n",
       "\n",
       "if(typeof $3Dmolpromise === 'undefined') {\n",
       "$3Dmolpromise = null;\n",
       "  $3Dmolpromise = loadScriptAsync('https://3dmol.csb.pitt.edu/build/3Dmol.js');\n",
       "}\n",
       "\n",
       "var viewer_155899038484705 = null;\n",
       "var warn = document.getElementById(\"3dmolwarning_155899038484705\");\n",
       "if(warn) {\n",
       "    warn.parentNode.removeChild(warn);\n",
       "}\n",
       "$3Dmolpromise.then(function() {\n",
       "viewer_155899038484705 = $3Dmol.createViewer($(\"#3dmolviewer_155899038484705\"),{backgroundColor:\"white\"});\n",
       "\tviewer_155899038484705.addModel(\"@<TRIPOS>MOLECULE\\nRES\\n20 0 1 0 1\\nSMALL\\nNO_CHARGES\\n@<TRIPOS>CRYSIN\\n   60.0000    60.0000    60.0000    90.0000    90.0000    90.0000  1  1\\n@<TRIPOS>ATOM\\n       1 C           40.3522     7.6011    22.1892 C             1 RES     \\n       2 C            3.1240    10.6082    32.7148 C             1 RES     \\n       3 C           39.0431    34.6958    31.3042 C             1 RES     \\n       4 C           19.3508    45.7508     2.9101 C             1 RES     \\n       5 C           25.3281    46.4743    18.0875 C             1 RES     \\n       6 C           11.4867    41.7000    28.4620 C             1 RES     \\n       7 C           44.9101    16.5955     7.9472 C             1 RES     \\n       8 C            9.5921    27.4335     9.7797 C             1 RES     \\n       9 C           38.8421    23.4396     9.5257 C             1 RES     \\n      10 C           37.9806    29.0923    34.3518 C             1 RES     \\n      11 C           46.1038     0.6194     3.8999 C             1 RES     \\n      12 C           51.4080    47.4590    39.1514 C             1 RES     \\n      13 C           30.1217    13.7089    19.2085 C             1 RES     \\n      14 C           23.5581    33.1957    16.3776 C             1 RES     \\n      15 C           34.8083    28.9291    41.7822 C             1 RES     \\n      16 C            8.2153    13.8955     2.9431 C             1 RES     \\n      17 C           21.7926     3.9244    20.5269 C             1 RES     \\n      18 C           46.8484    53.1169    40.6351 C             1 RES     \\n      19 C            4.7923    52.5821    49.4433 C             1 RES     \\n      20 C           12.6131    22.9294    36.9129 C             1 RES     \\n@<TRIPOS>BOND\\n@<TRIPOS>SUBSTRUCTURE\\n       1 RES             1 RESIDUE    0 **** ROOT      0\\n\",\"mol2\");\n",
       "\tviewer_155899038484705.setStyle({\"stick\": {\"radius\": 0.2, \"color\": \"grey\"}, \"sphere\": {\"scale\": 0.3, \"colorscheme\": {}}});\n",
       "\tviewer_155899038484705.zoomTo();\n",
       "viewer_155899038484705.render();\n",
       "});\n",
       "</script>"
      ]
     },
     "metadata": {},
     "output_type": "display_data"
    },
    {
     "data": {
      "text/plain": [
       "<py3Dmol.view at 0x111238860>"
      ]
     },
     "execution_count": 2,
     "metadata": {},
     "output_type": "execute_result"
    }
   ],
   "source": [
    "lj_box.visualize()"
   ]
  },
  {
   "cell_type": "markdown",
   "metadata": {},
   "source": [
    "## Saving the box to a format usable by HOOMD-Blue\n",
    "\n",
    "Now that we have generated the box of Lennard-Jones particles, it is time to migrate to a simulation engine.\n",
    "\n",
    "For this example, we will use HOOMD-Blue. MoSDeF has support built in for saving to both HOOMDXML and GSD file formats, which are used by HOOMD-Blue.\n",
    "\n",
    "We will be using the HOOMDXML file format, which is both human and machine readable, compared to GSD which is a binary file format. "
   ]
  },
  {
   "cell_type": "code",
   "execution_count": 3,
   "metadata": {},
   "outputs": [
    {
     "name": "stderr",
     "output_type": "stream",
     "text": [
      "/Users/ayang41/Programs/mbuild/mbuild/utils/decorators.py:21: Warning: write_hoomdxml has breaking change. See PR#463 on github\n",
      "  warn(printed_message, Warning)\n"
     ]
    }
   ],
   "source": [
    "lj_box.save(filename='lj_box.hoomdxml', overwrite=True, ref_distance=1)\n",
    "lj_box.save(filename='lj_box.mol2', overwrite=True)"
   ]
  },
  {
   "cell_type": "markdown",
   "metadata": {},
   "source": [
    "Lets take a look at the beginning of the file, see if you can find how many particles are in the system and the dimensions of our box containing our system."
   ]
  },
  {
   "cell_type": "code",
   "execution_count": 4,
   "metadata": {},
   "outputs": [
    {
     "name": "stdout",
     "output_type": "stream",
     "text": [
      "<?xml version=\"1.2\" encoding=\"UTF-8\"?>\r\n",
      "<hoomd_xml version=\"1.2\">\r\n",
      "<!-- ref_distance (nm) ref_mass (amu) ref_energy (kJ/mol) -->\r\n",
      "<!-- 10 1.0 0.2390057361376673 -->\r\n",
      "<configuration time_step=\"0\">\r\n",
      "<box units=\"sigma\"  Lx=\"6.0\" Ly=\"6.0\" Lz=\"6.0\"/>\r\n",
      "<position units=\"sigma\" num=\"20\">\r\n",
      "1.0352192000000002\t-2.2398901\t-0.7810777000000002\r\n",
      "-2.6876006\t-1.9391765999999997\t0.2714781000000002\r\n",
      "0.9043080000000003\t0.46958139999999987\t0.1304162000000005\r\n"
     ]
    }
   ],
   "source": [
    "!head -n 10 ./lj_box.hoomdxml"
   ]
  },
  {
   "cell_type": "markdown",
   "metadata": {
    "slideshow": {
     "slide_type": "slide"
    }
   },
   "source": [
    "## Initialize the Simulation Engine\n",
    "\n",
    "Now that we have generated the Lennard-Jones particles from mBuild and have saved the system to a file format suitable for HOOMD-Blue, it is now time to initialize the engine.\n",
    "\n",
    "To begin, we need to import the HOOMD python package and the MD component to run Molecular Dyanmics simulations.\n",
    "\n",
    "HOOMD-Blue is migrating to the GSD file format, which is deprecating the HOOMDXML file. However, they still support reading in this file format, we just need to import the `hoomd.deprecated` module. "
   ]
  },
  {
   "cell_type": "code",
   "execution_count": 5,
   "metadata": {
    "slideshow": {
     "slide_type": "fragment"
    }
   },
   "outputs": [
    {
     "name": "stderr",
     "output_type": "stream",
     "text": [
      "/Users/ayang41/anaconda3/envs/mosdef37/lib/python3.7/site-packages/hoomd/context.py:23: DeprecationWarning: time.clock has been deprecated in Python 3.3 and will be removed from Python 3.8: use time.perf_counter or time.process_time instead\n",
      "  CLOCK_START = time.clock()\n"
     ]
    }
   ],
   "source": [
    "import hoomd\n",
    "import hoomd.md\n",
    "import hoomd.deprecated"
   ]
  },
  {
   "cell_type": "markdown",
   "metadata": {
    "slideshow": {
     "slide_type": "skip"
    }
   },
   "source": [
    "Initialize the execution context to control where HOOMD will execute the simulation. When no command line options are provided, HOOMD will auto-select a GPU if it exists, or run on the CPU."
   ]
  },
  {
   "cell_type": "code",
   "execution_count": 6,
   "metadata": {
    "slideshow": {
     "slide_type": "subslide"
    }
   },
   "outputs": [
    {
     "name": "stdout",
     "output_type": "stream",
     "text": [
      "HOOMD-blue 2.5.2 DOUBLE HPMC_MIXED TBB SSE SSE2 SSE3 \n",
      "Compiled: 04/30/2019\n",
      "Copyright (c) 2009-2019 The Regents of the University of Michigan.\n",
      "-----\n",
      "You are using HOOMD-blue. Please cite the following:\n",
      "* J A Anderson, C D Lorenz, and A Travesset. \"General purpose molecular dynamics\n",
      "  simulations fully implemented on graphics processing units\", Journal of\n",
      "  Computational Physics 227 (2008) 5342--5359\n",
      "* J Glaser, T D Nguyen, J A Anderson, P Liu, F Spiga, J A Millan, D C Morse, and\n",
      "  S C Glotzer. \"Strong scaling of general-purpose molecular dynamics simulations\n",
      "  on GPUs\", Computer Physics Communications 192 (2015) 97--107\n",
      "-----\n",
      "HOOMD-blue is running on the CPU\n"
     ]
    },
    {
     "data": {
      "text/plain": [
       "<hoomd.context.SimulationContext at 0x11e2429e8>"
      ]
     },
     "execution_count": 6,
     "metadata": {},
     "output_type": "execute_result"
    }
   ],
   "source": [
    "hoomd.context.initialize(\"\")"
   ]
  },
  {
   "cell_type": "markdown",
   "metadata": {
    "slideshow": {
     "slide_type": "skip"
    }
   },
   "source": [
    "Read in our HOOMDXML file we generated from the Lennard-Jones box of particles in mBuild. If we have any particles outside of the box that HOOMD is trying to read, `wrap_coordinates=True` will put those back into the box."
   ]
  },
  {
   "cell_type": "code",
   "execution_count": 7,
   "metadata": {
    "slideshow": {
     "slide_type": "subslide"
    }
   },
   "outputs": [
    {
     "name": "stdout",
     "output_type": "stream",
     "text": [
      "notice(2): Reading lj_box.hoomdxml...\n",
      "notice(2): Parser for node <bond_coeffs> not defined, ignoring\n",
      "notice(2): Parser for node <angle_coeffs> not defined, ignoring\n",
      "notice(2): Parser for node <dihedral_coeffs> not defined, ignoring\n",
      "notice(2): --- hoomd_xml file read summary\n",
      "notice(2): 20 positions at timestep 0\n",
      "notice(2): 20 masses\n",
      "notice(2): 1 particle types\n",
      "notice(2): 20 charges\n",
      "notice(2): Group \"all\" created containing 20 particles\n"
     ]
    }
   ],
   "source": [
    "lattice = hoomd.deprecated.init.read_xml(filename='lj_box.hoomdxml', wrap_coordinates=True)"
   ]
  },
  {
   "cell_type": "markdown",
   "metadata": {},
   "source": [
    "Initialize particle velocities from a Gaussian distribution."
   ]
  },
  {
   "cell_type": "code",
   "execution_count": 8,
   "metadata": {},
   "outputs": [],
   "source": [
    "import random\n",
    "random.seed(1)\n",
    "T_init = 0.1\n",
    "for p in lattice.particles:\n",
    "    p.velocity = (random.gauss(0, T_init), random.gauss(0, T_init), random.gauss(0, T_init))"
   ]
  },
  {
   "cell_type": "markdown",
   "metadata": {
    "slideshow": {
     "slide_type": "slide"
    }
   },
   "source": [
    "## Define potential energy\n",
    "\n",
    "$ V(r) = 4 \\varepsilon \\left[ \\left( \\frac{\\sigma}{r} \\right)^{12} - \\left( \\frac{\\sigma}{r} \\right)^{6} \\right] $, where $r$ < $r$<sub>cut</sub>"
   ]
  },
  {
   "cell_type": "markdown",
   "metadata": {
    "slideshow": {
     "slide_type": "skip"
    }
   },
   "source": [
    "In the Lennard-Jones system, pairs of particles closer than $r_\\mathrm{cut}$ interact with this potential energy.\n",
    "\n",
    "Choose the neighbor list acceleration structure to find neighboring particles efficiently. In systems with only one cutoff length, the cell method performs best.\n",
    "\n",
    "**NOTE:** In a moment you will learn more about neighbor lists and will define the interaction potential."
   ]
  },
  {
   "cell_type": "code",
   "execution_count": 9,
   "metadata": {
    "slideshow": {
     "slide_type": "fragment"
    }
   },
   "outputs": [],
   "source": [
    "#nl = hoomd.md.nlist.cell(r_buff=0.6, check_period=1)\n",
    "nl = hoomd.md.nlist.cell()"
   ]
  },
  {
   "cell_type": "markdown",
   "metadata": {
    "slideshow": {
     "slide_type": "slide"
    }
   },
   "source": [
    "## Select integrator"
   ]
  },
  {
   "cell_type": "code",
   "execution_count": 10,
   "metadata": {
    "slideshow": {
     "slide_type": "fragment"
    }
   },
   "outputs": [
    {
     "data": {
      "text/plain": [
       "<hoomd.md.integrate.mode_standard at 0x11e242860>"
      ]
     },
     "execution_count": 10,
     "metadata": {},
     "output_type": "execute_result"
    }
   ],
   "source": [
    "hoomd.md.integrate.mode_standard(dt=0.01)"
   ]
  },
  {
   "cell_type": "markdown",
   "metadata": {
    "slideshow": {
     "slide_type": "skip"
    }
   },
   "source": [
    "The integrator defines the equations of motion that govern the system of particles, given the current configuration of the particles and the net force from all potentials. The standard integration mode in HOOMD allows different integrators to apply to different groups of particles with the same step size $dt$."
   ]
  },
  {
   "cell_type": "markdown",
   "metadata": {
    "slideshow": {
     "slide_type": "skip"
    }
   },
   "source": [
    "Apply NVT integration using the Velocity-Verlet algorithm."
   ]
  },
  {
   "cell_type": "code",
   "execution_count": 11,
   "metadata": {
    "slideshow": {
     "slide_type": "fragment"
    }
   },
   "outputs": [],
   "source": [
    "all = hoomd.group.all()\n",
    "nvt = hoomd.md.integrate.nvt(group=all, kT=0.2, tau=1.0)"
   ]
  },
  {
   "cell_type": "markdown",
   "metadata": {},
   "source": [
    "Above, this is using the [Nosé-Hoover thermostat](https://hoomd-blue.readthedocs.io/en/stable/module-md-integrate.html#hoomd.md.integrate.nvt). We define the `group` as all the particles in the system, since we want to integrate the entire system under the same thermostat. However, we could select different sections of particles and integrate them under different conditions if we want.\n",
    "\n",
    "`kT` is the average temperature we want the group to have. In this case, we want the entire system (`all`) to have an average temperature of 0.2kT.\n",
    "\n",
    "`tau` is a term related to the Nosé-Hoover thermostat, essentially it describes the fictitious thermal bath that will provide the temperature source for our system. See the above link for more information. \n",
    "\n",
    "\n",
    "Next we want to make sure that we zero the total linear momentum of the system - this avoids what is termed the \"flying ice cube\" problem."
   ]
  },
  {
   "cell_type": "code",
   "execution_count": 12,
   "metadata": {},
   "outputs": [
    {
     "data": {
      "text/plain": [
       "<hoomd.md.update.zero_momentum at 0x11e3da5c0>"
      ]
     },
     "execution_count": 12,
     "metadata": {},
     "output_type": "execute_result"
    }
   ],
   "source": [
    "hoomd.md.update.zero_momentum()"
   ]
  },
  {
   "cell_type": "markdown",
   "metadata": {
    "slideshow": {
     "slide_type": "skip"
    }
   },
   "source": [
    "Define the functional form of the pair interaction and evaluate using the given neighbor list acceleration structure."
   ]
  },
  {
   "cell_type": "code",
   "execution_count": 13,
   "metadata": {
    "slideshow": {
     "slide_type": "fragment"
    }
   },
   "outputs": [],
   "source": [
    "lj = hoomd.md.pair.lj(r_cut=2.5, nlist=nl)"
   ]
  },
  {
   "cell_type": "markdown",
   "metadata": {
    "slideshow": {
     "slide_type": "skip"
    }
   },
   "source": [
    "Specify pair potential parameters for every pair of types in the simulation. Since all of our particles are the same, we only need to set the interaction parameters for two `C` particles."
   ]
  },
  {
   "cell_type": "code",
   "execution_count": 14,
   "metadata": {
    "slideshow": {
     "slide_type": "fragment"
    }
   },
   "outputs": [],
   "source": [
    "epsilon = 1\n",
    "sigma = 1\n",
    "\n",
    "lj.pair_coeff.set('C', 'C', epsilon=epsilon, sigma=sigma)"
   ]
  },
  {
   "cell_type": "markdown",
   "metadata": {},
   "source": [
    "Lets plot the lennard jones potential based on the interaction parameters we defined above. Change the sigma and epsilon values and observe how this changes the potential energy function"
   ]
  },
  {
   "cell_type": "code",
   "execution_count": 15,
   "metadata": {
    "scrolled": true
   },
   "outputs": [
    {
     "data": {
      "text/plain": [
       "Text(0, 0.5, 'U')"
      ]
     },
     "execution_count": 15,
     "metadata": {},
     "output_type": "execute_result"
    },
    {
     "data": {
      "image/png": "[encoded data removed]",
      "text/plain": [
       "<Figure size 432x288 with 1 Axes>"
      ]
     },
     "metadata": {
      "needs_background": "light"
     },
     "output_type": "display_data"
    }
   ],
   "source": [
    "%matplotlib inline\n",
    "from matplotlib import pyplot as plt\n",
    "import numpy as np\n",
    "\n",
    "cms = 2.5 - sigma\n",
    "rmin = sigma - cms * 0.1\n",
    "rmax = 2.5 + cms * 0.1\n",
    "\n",
    "r = np.linspace(start=rmin, stop=rmax, num=100,)\n",
    "potential = (4 * epsilon) * ( (sigma / r)**12 - (sigma/r)**6 )\n",
    "min_U = np.min(potential)\n",
    "\n",
    "fig, ax = plt.subplots()\n",
    "ax.plot(r[:], potential[:], linestyle='-', color='#6666ff', lw=4)\n",
    "\n",
    "ax.set_xlim(rmin, rmax)\n",
    "ax.set_ylim(min_U * 1.1, -0.1 * min_U)\n",
    "ax.set_xlabel('r')\n",
    "ax.set_ylabel('U')"
   ]
  },
  {
   "cell_type": "markdown",
   "metadata": {},
   "source": [
    "## Neighbor list searching\n",
    "\n",
    "Since the pair potential (Lennard-Jones) is based on the interactions of all the particles interacting with one another no matter how far they are separated from each other, it should be noted that as the amount of particles increase, the performance will drastically decrease.\n",
    "\n",
    "However, as we can see above, beyond a certain distance `r`, the potential energy of two particles asymptotically approaches 0. This means that we do not need to actually determine all the interactions between each particles if they are separated beyond a certain distance. These interactions will contribute a negligible amount in the overall potential energy of the system.\n",
    "\n",
    "This is where the concept of neighbor lists comes into play. Knowing when the `r` value between two particles is large enough to minimally count towards the total potential energy the particle is experiencing can increase performance handily. \n",
    "\n",
    "Neighbor lists can be thought of as the local neighborhood of important particles for each particle in the system. Usually much smaller than the total number of particles present, these are the only particles that need to be accounted for when evaluating the interaction energies.\n",
    "\n",
    "There are many algorithms that have been developed to efficiently and accurately track the neighbor lists, a common one that is used is the cell list method.\n",
    "\n",
    "<img src=\"cell_list.png\" alt=\"Drawing\" style=\"width: 500px;\" />\n",
    "\n",
    "Shown above is a cartoon representing the cell list method. The cutoff distance is determined by the largest radius of the particles in the simulation. There is an additional \"skin\" region that extends past the cutoff distance, to reduce the total amount of recalculations of the neighbor lists. \n",
    "\n",
    "From HOOMD-Blue's documentation:\n",
    ">A small buffer radius (skin layer) `r_buff` is typically added to the cutoff radius so that the neighbor list can be computed less frequently. The neighbor list must only be rebuilt any time a particle diffuses `r_buff/2`. However, increasing r_buff also increases the number of particles that are included in the neighbor list, which slows down the pair force evaluation. A balance can be obtained between the two by optimizing `r_buff`.\n",
    "\n",
    "An important aspect of optimizing molecular dynamics simulations are choosing optimal parameters for the neighbor lists.\n",
    "\n",
    "HOOMD-Blue has a built-in `tune` tool to optimize the neighbor list settings, below we will use that to increase the performance of the following simulation."
   ]
  },
  {
   "cell_type": "code",
   "execution_count": 16,
   "metadata": {},
   "outputs": [],
   "source": [
    "#nl.tune(warmup=10000, set_max_check_period=False)\n",
    "#nl.tune(warmup=1000)"
   ]
  },
  {
   "cell_type": "markdown",
   "metadata": {
    "slideshow": {
     "slide_type": "slide"
    }
   },
   "source": [
    "## Write output"
   ]
  },
  {
   "cell_type": "markdown",
   "metadata": {
    "slideshow": {
     "slide_type": "skip"
    }
   },
   "source": [
    "The `hoomd.analyze.log` method can be used to log a variety of system properties (see http://hoomd-blue.readthedocs.io/en/stable/module-hoomd-analyze.html#hoomd.analyze.log). Here we will periodically log the volume, temperature, kinetic energy, potential energy, and pressure."
   ]
  },
  {
   "cell_type": "code",
   "execution_count": 17,
   "metadata": {
    "slideshow": {
     "slide_type": "fragment"
    }
   },
   "outputs": [
    {
     "data": {
      "text/plain": [
       "<hoomd.analyze.log at 0x11f0dd198>"
      ]
     },
     "execution_count": 17,
     "metadata": {},
     "output_type": "execute_result"
    }
   ],
   "source": [
    "hoomd.analyze.log(filename=\"analyze_nvt.log\",\n",
    "                  quantities=['temperature', 'volume', 'kinetic_energy', 'potential_energy', 'pressure'],\n",
    "                  period=10,\n",
    "                  overwrite=True)"
   ]
  },
  {
   "cell_type": "markdown",
   "metadata": {
    "slideshow": {
     "slide_type": "skip"
    }
   },
   "source": [
    "Periodically write the particle configurations to a DCD file."
   ]
  },
  {
   "cell_type": "code",
   "execution_count": 18,
   "metadata": {
    "slideshow": {
     "slide_type": "fragment"
    }
   },
   "outputs": [
    {
     "data": {
      "text/plain": [
       "<hoomd.dump.dcd at 0x11f0ddac8>"
      ]
     },
     "execution_count": 18,
     "metadata": {},
     "output_type": "execute_result"
    }
   ],
   "source": [
    "hoomd.dump.dcd(\"trajectory.dcd\", period=1e3, group=all, overwrite=True, unwrap_full=False)"
   ]
  },
  {
   "cell_type": "markdown",
   "metadata": {
    "slideshow": {
     "slide_type": "slide"
    }
   },
   "source": [
    "## Run the simulation"
   ]
  },
  {
   "cell_type": "markdown",
   "metadata": {
    "slideshow": {
     "slide_type": "skip"
    }
   },
   "source": [
    "Take 1e5 steps forward in time."
   ]
  },
  {
   "cell_type": "code",
   "execution_count": 19,
   "metadata": {
    "slideshow": {
     "slide_type": "fragment"
    }
   },
   "outputs": [
    {
     "name": "stdout",
     "output_type": "stream",
     "text": [
      "notice(2): -- Neighborlist exclusion statistics -- :\n",
      "notice(2): Particles with 0 exclusions             : 20\n",
      "notice(2): Neighbors included by diameter          : no\n",
      "notice(2): Neighbors excluded when in the same body: no\n",
      "** starting run **\n",
      "Time 00:00:01 | Step 100000 / 100000 | TPS 108853 | ETA 00:00:00\n",
      "Average TPS: 108773\n",
      "---------\n",
      "-- Neighborlist stats:\n",
      "1006 normal updates / 1000 forced updates / 0 dangerous updates\n",
      "n_neigh_min: 0 / n_neigh_max: 19 / n_neigh_avg: 9.05\n",
      "shortest rebuild period: 3\n",
      "-- Cell list stats:\n",
      "Dimension: 2, 2, 2\n",
      "n_min    : 0 / n_max: 8 / n_avg: 2.5\n",
      "** run complete **\n"
     ]
    }
   ],
   "source": [
    "hoomd.run(1e5)"
   ]
  },
  {
   "cell_type": "markdown",
   "metadata": {
    "slideshow": {
     "slide_type": "slide"
    }
   },
   "source": [
    "## Examine the output"
   ]
  },
  {
   "cell_type": "markdown",
   "metadata": {
    "slideshow": {
     "slide_type": "skip"
    }
   },
   "source": [
    "Use matplotlib to plot the volume, temperature, total_energy, and pressure."
   ]
  },
  {
   "cell_type": "code",
   "execution_count": 20,
   "metadata": {
    "slideshow": {
     "slide_type": "fragment"
    }
   },
   "outputs": [],
   "source": [
    "%matplotlib inline\n",
    "import matplotlib.pyplot as plt\n",
    "import numpy as np\n",
    "\n",
    "data_nvt = np.genfromtxt(fname='analyze_nvt.log', skip_header=True);"
   ]
  },
  {
   "cell_type": "code",
   "execution_count": 21,
   "metadata": {
    "slideshow": {
     "slide_type": "subslide"
    }
   },
   "outputs": [
    {
     "data": {
      "image/png": "[encoded data removed]",
      "text/plain": [
       "<Figure size 432x288 with 4 Axes>"
      ]
     },
     "metadata": {
      "needs_background": "light"
     },
     "output_type": "display_data"
    }
   ],
   "source": [
    "plt.figure();\n",
    "\n",
    "\n",
    "plt.subplot(221);\n",
    "plt.plot(data_nvt[:,0], data_nvt[:,2]);\n",
    "plt.xlabel('time step');\n",
    "plt.ylabel('volume');\n",
    "\n",
    "plt.subplot(222);\n",
    "plt.plot(data_nvt[:,0], data_nvt[:,1]);\n",
    "plt.xlabel('time step');\n",
    "plt.ylabel('temperature');\n",
    "\n",
    "plt.subplot(223);\n",
    "plt.plot(data_nvt[:,0], data_nvt[:,5]);\n",
    "plt.xlabel('time step');\n",
    "plt.ylabel('pressure');\n",
    "\n",
    "plt.subplot(224);\n",
    "plt.plot(data_nvt[:,0], data_nvt[:,3] + data_nvt[:,4]);\n",
    "plt.xlabel('time step');\n",
    "plt.ylabel('total_energy');\n",
    "\n",
    "# adjust subplots so they do not overlap with each other\n",
    "plt.subplots_adjust(top=0.92, bottom=0.08, left=0.10, right=1.0, hspace=0.4,\n",
    "                    wspace=0.35)\n",
    "\n",
    "plt.show()"
   ]
  },
  {
   "cell_type": "markdown",
   "metadata": {},
   "source": [
    "Examine how these values change or are constant. Since we are in the NVT ensemble, we should expect the number of particles, volume, and temperature to be constant. Which is what we observe. "
   ]
  },
  {
   "cell_type": "markdown",
   "metadata": {
    "collapsed": true,
    "slideshow": {
     "slide_type": "subslide"
    }
   },
   "source": [
    "## NPT Ensemble\n",
    "\n",
    "Now that we have ran under the NVT ensemble for some time, lets switch over to the NPT ensemble. This can be done in multiple ways, but the simplest way is to disable the current NVT integrator and enable the NPT integrator.\n",
    "\n",
    "We will change the names of the log files, but that is the majority of the work required. "
   ]
  },
  {
   "cell_type": "code",
   "execution_count": 22,
   "metadata": {},
   "outputs": [],
   "source": [
    "nvt.disable()\n",
    "\n",
    "npt = hoomd.md.integrate.npt(group=all, kT=0.5, tau=1.0, P=0.003, tauP=10)"
   ]
  },
  {
   "cell_type": "markdown",
   "metadata": {},
   "source": [
    "Now lets set the data logging information"
   ]
  },
  {
   "cell_type": "code",
   "execution_count": 23,
   "metadata": {},
   "outputs": [
    {
     "name": "stdout",
     "output_type": "stream",
     "text": [
      "** starting run **\n",
      "Time 00:00:03 | Step 200000 / 200000 | TPS 143964 | ETA 00:00:00\n",
      "Average TPS: 143765\n",
      "---------\n",
      "-- Neighborlist stats:\n",
      "2430 normal updates / 1000 forced updates / 0 dangerous updates\n",
      "n_neigh_min: 0 / n_neigh_max: 3 / n_neigh_avg: 0.7\n",
      "shortest rebuild period: 22\n",
      "-- Cell list stats:\n",
      "Dimension: 5, 5, 5\n",
      "n_min    : 0 / n_max: 2 / n_avg: 0.16\n",
      "** run complete **\n"
     ]
    }
   ],
   "source": [
    "hoomd.analyze.log(filename=\"analyze_npt.log\",\n",
    "                  quantities=['temperature', 'volume', 'kinetic_energy', 'potential_energy', 'pressure'],\n",
    "                  period=100,\n",
    "                  overwrite=True)\n",
    "\n",
    "hoomd.run(1e5)"
   ]
  },
  {
   "cell_type": "markdown",
   "metadata": {},
   "source": [
    "Now lets plot the NPT thermodynamic data. Compare this to the NVT data. Which properties are constant, what previously constant properties are now changing?\n",
    "- **Hint**\n",
    "    - The description of the ensemble (NPT, NVT, etc) describes the constant variables in the simulation"
   ]
  },
  {
   "cell_type": "code",
   "execution_count": 24,
   "metadata": {},
   "outputs": [],
   "source": [
    "%matplotlib inline\n",
    "import matplotlib.pyplot as plt\n",
    "import numpy as np\n",
    "\n",
    "data_npt = np.genfromtxt(fname='analyze_npt.log', skip_header=True);"
   ]
  },
  {
   "cell_type": "code",
   "execution_count": 25,
   "metadata": {},
   "outputs": [
    {
     "data": {
      "image/png": "[encoded data removed]",
      "text/plain": [
       "<Figure size 432x288 with 4 Axes>"
      ]
     },
     "metadata": {
      "needs_background": "light"
     },
     "output_type": "display_data"
    }
   ],
   "source": [
    "plt.figure();\n",
    "\n",
    "\n",
    "plt.subplot(221);\n",
    "plt.plot(data_npt[:,0], data_npt[:,2]);\n",
    "plt.xlabel('time step');\n",
    "plt.ylabel('volume');\n",
    "\n",
    "plt.subplot(222);\n",
    "plt.plot(data_npt[:,0], data_npt[:,1]);\n",
    "plt.xlabel('time step');\n",
    "plt.ylabel('temperature');\n",
    "\n",
    "plt.subplot(223);\n",
    "plt.plot(data_npt[:,0], data_npt[:,5]);\n",
    "plt.xlabel('time step');\n",
    "plt.ylabel('pressure');\n",
    "\n",
    "plt.subplot(224);\n",
    "plt.plot(data_npt[:,0], data_npt[:,3] + data_npt[:,4]);\n",
    "plt.xlabel('time step');\n",
    "plt.ylabel('total_energy');\n",
    "\n",
    "# adjust subplots so they do not overlap with each other\n",
    "plt.subplots_adjust(top=0.92, bottom=0.08, left=0.10, right=1.0, hspace=0.4,\n",
    "                    wspace=0.35)\n",
    "\n",
    "plt.show()"
   ]
  },
  {
   "cell_type": "markdown",
   "metadata": {},
   "source": [
    "Now lets look at our system!"
   ]
  },
  {
   "cell_type": "code",
   "execution_count": 26,
   "metadata": {},
   "outputs": [],
   "source": [
    "import nglview as nv\n",
    "import mdtraj as md"
   ]
  },
  {
   "cell_type": "code",
   "execution_count": 27,
   "metadata": {},
   "outputs": [
    {
     "data": {
      "application/vnd.jupyter.widget-view+json": {
       "model_id": "e39dd95092e6483e8a3616b9dc108e28",
       "version_major": 2,
       "version_minor": 0
      },
      "text/plain": [
       "NGLWidget(count=200)"
      ]
     },
     "metadata": {},
     "output_type": "display_data"
    }
   ],
   "source": [
    "traj = md.load(filename_or_filenames='./trajectory.dcd', top='./lj_box.mol2')\n",
    "nv.show_mdtraj(traj)"
   ]
  }
 ],
 "metadata": {
  "kernelspec": {
   "display_name": "Python 3",
   "language": "python",
   "name": "python3"
  },
  "language_info": {
   "codemirror_mode": {
    "name": "ipython",
    "version": 3
   },
   "file_extension": ".py",
   "mimetype": "text/x-python",
   "name": "python",
   "nbconvert_exporter": "python",
   "pygments_lexer": "ipython3",
   "version": "3.7.3"
  }
 },
 "nbformat": 4,
 "nbformat_minor": 2
}
